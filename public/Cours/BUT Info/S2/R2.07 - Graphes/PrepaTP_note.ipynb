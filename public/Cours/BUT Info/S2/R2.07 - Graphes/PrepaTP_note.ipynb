{
 "cells": [
  {
   "cell_type": "markdown",
   "metadata": {},
   "source": [
    "# <p style=\"text-align: center;\"> TP noté R2.07 <br> Quelques algorithmes sur les graphes\n",
    "</p>"
   ]
  },
  {
   "cell_type": "code",
   "execution_count": 1,
   "metadata": {},
   "outputs": [],
   "source": [
    "from collections import deque\n",
    "import random"
   ]
  },
  {
   "cell_type": "code",
   "execution_count": 2,
   "metadata": {},
   "outputs": [],
   "source": [
    "class Graphe(object):\n",
    "    \n",
    "    def __init__(self, graphe_dict=None):\n",
    "        \"\"\" initialise un objet graphe.\n",
    "\t    Si aucun dictionnaire n'est\n",
    "\t    créé ou donné, on en utilisera un \n",
    "\t    vide\n",
    "        \"\"\"\n",
    "        if graphe_dict == None:\n",
    "            graphe_dict = dict()\n",
    "        self._graphe_dict = graphe_dict\n",
    "\n",
    "    def aretes(self, sommet):\n",
    "        \"\"\" retourne une liste de toutes les aretes d'un sommet\"\"\"\n",
    "        return self._graphe_dict[sommet]\n",
    "\n",
    "    def all_sommets(self):\n",
    "        \"\"\" retourne tous les sommets du graphe \"\"\"\n",
    "        return set(self._graphe_dict.keys())\n",
    "\n",
    "    def all_aretes(self):\n",
    "        \"\"\" retourne toutes les aretes du graphe \"\"\"\n",
    "        return self.__list_aretes()\n",
    "\n",
    "    def add_sommet(self, sommet):\n",
    "        \"\"\" Si le \"sommet\" n'set pas déjà présent\n",
    "\tdans le graphe, on rajoute au dictionnaire \n",
    "\tune clé \"sommet\" avec une liste vide pour valeur. \n",
    "\tSinon on ne fait rien.\n",
    "        \"\"\"\n",
    "        if sommet not in self._graphe_dict:\n",
    "            self._graphe_dict[sommet] = []\n",
    "\n",
    "    def add_arete(self, arete):\n",
    "        \"\"\" l'arete est de  type set, tuple ou list;\n",
    "            Entre deux sommets il peut y avoir plus\n",
    "\t    d'une arete (multi-graphe)\n",
    "        \"\"\"\n",
    "        arete = set(arete)\n",
    "        arete1, arete2 = tuple(arete)\n",
    "        for x, y in [(arete1, arete2), (arete2, arete1)]:\n",
    "            if x in self._graphe_dict:\n",
    "                self._graphe_dict[x].add(y)\n",
    "            else:\n",
    "                self._graphe_dict[x] = {y}\n",
    "\n",
    "    def __list_aretes(self):\n",
    "        \"\"\" Methode privée pour récupérer les aretes. \n",
    "\t    Une arete est un ensemble (set)\n",
    "            avec un (boucle) ou deux sommets.\n",
    "        \"\"\"\n",
    "        aretes = []\n",
    "        for sommet in self._graphe_dict:\n",
    "            for voisin in self._graphe_dict[sommet]:\n",
    "                if ({voisin, sommet})  not in aretes:\n",
    "                    aretes.append({sommet, voisin})\n",
    "        return aretes\n",
    "    \n",
    "    def __iter__(self):\n",
    "        self._iter_obj = iter(self._graphe_dict)\n",
    "        return self._iter_obj\n",
    "\n",
    "    def __next__(self):\n",
    "        \"\"\" Pour itérer sur les sommets du graphe \"\"\"\n",
    "        return next(self._iter_obj)\n",
    "\n",
    "    def __str__(self):\n",
    "        res = \"sommets: \"\n",
    "        for k in self._graphe_dict.keys():\n",
    "            res += str(k) + \" \"\n",
    "        res += \"\\naretes: \"\n",
    "        for arete in self.__list_aretes():\n",
    "            res += str(arete) + \" \"\n",
    "        return res"
   ]
  },
  {
   "cell_type": "code",
   "execution_count": 30,
   "metadata": {},
   "outputs": [],
   "source": [
    "class Graphe2(Graphe):\n",
    "    \n",
    "    def sommet_degre(self, sommet):\n",
    "        \"\"\" renvoie le degre du sommet \"\"\"\n",
    "        degre =  len(self._graphe_dict[sommet]) \n",
    "        if sommet in self._graphe_dict[sommet]:\n",
    "            degre += 1 \n",
    "        return degre\n"
   ]
  },
  {
   "cell_type": "markdown",
   "metadata": {},
   "source": [
    "**Petite subtilité**  Si l'on souhaite définir une nouvelle méthode à la classe Graphe2 dans une autre cellule du notebook, il faut faire hériter la classe d'elle même, comme ci-dessous.<br>\n",
    "**Attention**, dans ce cas il faut réexecuter la cellule ou l'on a défini l'objet de type Graphe2 (pour que soit prise en compte la nouvelle méthode)  "
   ]
  },
  {
   "cell_type": "code",
   "execution_count": 25,
   "metadata": {},
   "outputs": [],
   "source": [
    "class Graphe2(Graphe2):\n",
    "    def trouve_sommet_isole(self):\n",
    "        \"\"\" renvoie la liste des sommets isoles \"\"\"\n",
    "        graphe = self._graphe_dict\n",
    "        isoles = []\n",
    "        for sommet in graphe:\n",
    "            if not graphe[sommet]:\n",
    "                isoles += [sommet]\n",
    "        return isoles"
   ]
  },
  {
   "cell_type": "markdown",
   "metadata": {},
   "source": [
    "## Testons tout cela..."
   ]
  },
  {
   "cell_type": "code",
   "execution_count": 15,
   "metadata": {},
   "outputs": [],
   "source": [
    "g1 = {\"A\" :{\"C\"},\n",
    "           \"B\" : {\"C\", \"E\"},\n",
    "           \"C\" : {\"A\", \"B\", \"D\", \"E\"},\n",
    "           \"D\" : {\"C\"},\n",
    "           \"E\" : {\"C\", \"B\"},\n",
    "           \"F\" : set()\n",
    "         }"
   ]
  },
  {
   "cell_type": "code",
   "execution_count": null,
   "metadata": {},
   "outputs": [],
   "source": [
    "G1=Graphe(g1)\n",
    "G1.all_aretes()"
   ]
  },
  {
   "cell_type": "code",
   "execution_count": 33,
   "metadata": {},
   "outputs": [],
   "source": [
    "G2=Graphe2(g1)"
   ]
  },
  {
   "cell_type": "code",
   "execution_count": null,
   "metadata": {},
   "outputs": [],
   "source": [
    "G2.sommet_degre(\"A\")\n",
    "G2.trouve_sommet_isole()"
   ]
  }
 ],
 "metadata": {
  "kernelspec": {
   "display_name": "Python 3",
   "language": "python",
   "name": "python3"
  },
  "language_info": {
   "codemirror_mode": {
    "name": "ipython",
    "version": 3
   },
   "file_extension": ".py",
   "mimetype": "text/x-python",
   "name": "python",
   "nbconvert_exporter": "python",
   "pygments_lexer": "ipython3",
   "version": "3.10.12"
  }
 },
 "nbformat": 4,
 "nbformat_minor": 2
}
